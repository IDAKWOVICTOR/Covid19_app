{
 "cells": [
  {
   "cell_type": "markdown",
   "metadata": {
    "id": "cvuiDkMzNr7E"
   },
   "source": [
    "**ASSOCIATE MANAGER , DATA ANALYST ASSESSMENT TEST**"
   ]
  },
  {
   "cell_type": "markdown",
   "metadata": {
    "id": "d-ldc_erOBVP"
   },
   "source": [
    "**SECTION B**"
   ]
  },
  {
   "cell_type": "markdown",
   "metadata": {
    "id": "CxOfLMnmOBJn"
   },
   "source": [
    "**Covid-19 Case prediction and Modelling**"
   ]
  },
  {
   "cell_type": "code",
   "execution_count": 2,
   "metadata": {
    "executionInfo": {
     "elapsed": 52,
     "status": "ok",
     "timestamp": 1741379234935,
     "user": {
      "displayName": "Victor Idakwo",
      "userId": "04998244974704889295"
     },
     "user_tz": -60
    },
    "id": "NRAsnA3zM8Qj"
   },
   "outputs": [],
   "source": [
    "# installing & loading Models"
   ]
  },
  {
   "cell_type": "code",
   "execution_count": null,
   "metadata": {
    "colab": {
     "base_uri": "https://localhost:8080/"
    },
    "collapsed": true,
    "executionInfo": {
     "elapsed": 5251,
     "status": "ok",
     "timestamp": 1741415104161,
     "user": {
      "displayName": "Victor Idakwo",
      "userId": "04998244974704889295"
     },
     "user_tz": -60
    },
    "id": "vdJ4N4PAOt-K",
    "outputId": "867b5286-4934-4cd6-978f-5e15f2c5a810"
   },
   "outputs": [],
   "source": [
    "pip install lazypredict shap sckit_learn pandas geopandas matplotlib shap lazypredict openpyxl"
   ]
  },
  {
   "cell_type": "code",
   "execution_count": 6,
   "metadata": {
    "executionInfo": {
     "elapsed": 19659,
     "status": "ok",
     "timestamp": 1741415080266,
     "user": {
      "displayName": "Victor Idakwo",
      "userId": "04998244974704889295"
     },
     "user_tz": -60
    },
    "id": "91a34743-ae05-4dba-976f-1ed79d537935"
   },
   "outputs": [],
   "source": [
    "import pandas as pd\n",
    "import numpy as np\n",
    "from sklearn.model_selection import train_test_split, cross_val_score\n",
    "from sklearn.preprocessing import StandardScaler\n",
    "from sklearn.linear_model import LogisticRegression\n",
    "from sklearn.naive_bayes import GaussianNB\n",
    "from sklearn.ensemble import RandomForestClassifier, GradientBoostingClassifier\n",
    "from sklearn.svm import SVC\n",
    "from sklearn.metrics import (\n",
    "    classification_report, confusion_matrix, accuracy_score,\n",
    "    precision_score, recall_score, f1_score, roc_auc_score,\n",
    "    roc_curve, cohen_kappa_score, matthews_corrcoef,\n",
    "    log_loss, brier_score_loss\n",
    ")\n",
    "from sklearn.pipeline import make_pipeline\n",
    "import joblib\n",
    "import os\n",
    "import matplotlib.pyplot as plt\n",
    "import statsmodels.api as sm\n",
    "from statsmodels.stats.outliers_influence import variance_inflation_factor"
   ]
  },
  {
   "cell_type": "code",
   "execution_count": 7,
   "metadata": {
    "executionInfo": {
     "elapsed": 13671,
     "status": "ok",
     "timestamp": 1741415129874,
     "user": {
      "displayName": "Victor Idakwo",
      "userId": "04998244974704889295"
     },
     "user_tz": -60
    },
    "id": "x-Eoy9jjAGzS"
   },
   "outputs": [],
   "source": [
    "# Lazy Predict for quick benchmarking\n",
    "import lazypredict\n",
    "from lazypredict.Supervised import LazyRegressor\n",
    "from lazypredict.Supervised import LazyClassifier"
   ]
  },
  {
   "cell_type": "markdown",
   "metadata": {
    "id": "qJHiN-hzO2uh"
   },
   "source": [
    "## Data Collection and Preparation\n",
    "ehealth Africa carried out an investigation on various factors that could determine if someone has covid-19 or not.\n",
    "\n",
    "Data collection tools include Koboforma and clinical reports"
   ]
  },
  {
   "cell_type": "code",
   "execution_count": 13,
   "metadata": {
    "executionInfo": {
     "elapsed": 27,
     "status": "ok",
     "timestamp": 1741380904453,
     "user": {
      "displayName": "Victor Idakwo",
      "userId": "04998244974704889295"
     },
     "user_tz": -60
    },
    "id": "9c060e0d-05f2-4071-bad4-001fa2385135"
   },
   "outputs": [],
   "source": [
    "# Load data from CSV file"
   ]
  },
  {
   "cell_type": "code",
   "execution_count": 5,
   "metadata": {
    "colab": {
     "base_uri": "https://localhost:8080/"
    },
    "executionInfo": {
     "elapsed": 22350,
     "status": "ok",
     "timestamp": 1741415158736,
     "user": {
      "displayName": "Victor Idakwo",
      "userId": "04998244974704889295"
     },
     "user_tz": -60
    },
    "id": "peFzT3QJJNjh",
    "outputId": "d4281fd4-52ab-47ba-91af-ea820fbc32ba"
   },
   "outputs": [
    {
     "name": "stdout",
     "output_type": "stream",
     "text": [
      "Mounted at /content/drive\n"
     ]
    }
   ],
   "source": [
    "from google.colab import drive\n",
    "drive.mount('/content/drive')"
   ]
  },
  {
   "cell_type": "code",
   "execution_count": 27,
   "metadata": {
    "executionInfo": {
     "elapsed": 33443,
     "status": "ok",
     "timestamp": 1741415198819,
     "user": {
      "displayName": "Victor Idakwo",
      "userId": "04998244974704889295"
     },
     "user_tz": -60
    },
    "id": "f42eb8b8-8010-409b-bfb5-bc204c705439"
   },
   "outputs": [],
   "source": [
    "file_path = 'COVID19.xlsx'\n",
    "df = pd.read_excel(file_path)"
   ]
  },
  {
   "cell_type": "code",
   "execution_count": null,
   "metadata": {
    "id": "da69cd76-dd83-4e4e-986f-0404453ff31a"
   },
   "outputs": [],
   "source": [
    "# Display the first few rows of the DataFrame"
   ]
  },
  {
   "cell_type": "code",
   "execution_count": 28,
   "metadata": {
    "colab": {
     "base_uri": "https://localhost:8080/",
     "height": 582
    },
    "collapsed": true,
    "executionInfo": {
     "elapsed": 508,
     "status": "ok",
     "timestamp": 1741415202624,
     "user": {
      "displayName": "Victor Idakwo",
      "userId": "04998244974704889295"
     },
     "user_tz": -60
    },
    "id": "2646b2f5-4230-4d4d-a37b-93d47a19d6b8",
    "outputId": "f3110841-026d-49dd-f8a7-d558d8f995b6"
   },
   "outputs": [
    {
     "data": {
      "text/html": [
       "<div>\n",
       "<style scoped>\n",
       "    .dataframe tbody tr th:only-of-type {\n",
       "        vertical-align: middle;\n",
       "    }\n",
       "\n",
       "    .dataframe tbody tr th {\n",
       "        vertical-align: top;\n",
       "    }\n",
       "\n",
       "    .dataframe thead th {\n",
       "        text-align: right;\n",
       "    }\n",
       "</style>\n",
       "<table border=\"1\" class=\"dataframe\">\n",
       "  <thead>\n",
       "    <tr style=\"text-align: right;\">\n",
       "      <th></th>\n",
       "      <th>Sex</th>\n",
       "      <th>Birth Year</th>\n",
       "      <th>Chest pain</th>\n",
       "      <th>Chills or sweats</th>\n",
       "      <th>Confused or disoriented</th>\n",
       "      <th>Cough</th>\n",
       "      <th>Diarrhea</th>\n",
       "      <th>Difficulty breathing or Dyspnea</th>\n",
       "      <th>Digested blood or coffee grounds in vomit</th>\n",
       "      <th>Pain behind eyes or Sensitivity to light</th>\n",
       "      <th>...</th>\n",
       "      <th>Cough with sputum</th>\n",
       "      <th>Cough with heamoptysis</th>\n",
       "      <th>Enlarged lymph nodes</th>\n",
       "      <th>Wheezing</th>\n",
       "      <th>Skin ulcers</th>\n",
       "      <th>Inability to walk</th>\n",
       "      <th>Indrawing of chest wall</th>\n",
       "      <th>Other complications</th>\n",
       "      <th>Specify other complications</th>\n",
       "      <th>Result</th>\n",
       "    </tr>\n",
       "  </thead>\n",
       "  <tbody>\n",
       "    <tr>\n",
       "      <th>0</th>\n",
       "      <td>MALE</td>\n",
       "      <td>1960.00</td>\n",
       "      <td>NO</td>\n",
       "      <td>NO</td>\n",
       "      <td>NO</td>\n",
       "      <td>YES</td>\n",
       "      <td>NO</td>\n",
       "      <td>NO</td>\n",
       "      <td>NaN</td>\n",
       "      <td>NaN</td>\n",
       "      <td>...</td>\n",
       "      <td>NO</td>\n",
       "      <td>NO</td>\n",
       "      <td>NO</td>\n",
       "      <td>NO</td>\n",
       "      <td>NO</td>\n",
       "      <td>NO</td>\n",
       "      <td>NO</td>\n",
       "      <td>0.00</td>\n",
       "      <td>Acute respiratory distress syndrome</td>\n",
       "      <td>NEGATIVE</td>\n",
       "    </tr>\n",
       "    <tr>\n",
       "      <th>1</th>\n",
       "      <td>MALE</td>\n",
       "      <td>1990.00</td>\n",
       "      <td>NO</td>\n",
       "      <td>NO</td>\n",
       "      <td>UNKNOWN</td>\n",
       "      <td>YES</td>\n",
       "      <td>YES</td>\n",
       "      <td>YES</td>\n",
       "      <td>NaN</td>\n",
       "      <td>NaN</td>\n",
       "      <td>...</td>\n",
       "      <td>NO</td>\n",
       "      <td>NO</td>\n",
       "      <td>NO</td>\n",
       "      <td>NO</td>\n",
       "      <td>NO</td>\n",
       "      <td>NO</td>\n",
       "      <td>NO</td>\n",
       "      <td>0.00</td>\n",
       "      <td>ARDS</td>\n",
       "      <td>NEGATIVE</td>\n",
       "    </tr>\n",
       "    <tr>\n",
       "      <th>2</th>\n",
       "      <td>FEMALE</td>\n",
       "      <td>1918.00</td>\n",
       "      <td>YES</td>\n",
       "      <td>YES</td>\n",
       "      <td>NaN</td>\n",
       "      <td>YES</td>\n",
       "      <td>YES</td>\n",
       "      <td>YES</td>\n",
       "      <td>NaN</td>\n",
       "      <td>NaN</td>\n",
       "      <td>...</td>\n",
       "      <td>NaN</td>\n",
       "      <td>NaN</td>\n",
       "      <td>NaN</td>\n",
       "      <td>NaN</td>\n",
       "      <td>NaN</td>\n",
       "      <td>NaN</td>\n",
       "      <td>NaN</td>\n",
       "      <td>0.00</td>\n",
       "      <td>ARDS</td>\n",
       "      <td>NEGATIVE</td>\n",
       "    </tr>\n",
       "    <tr>\n",
       "      <th>3</th>\n",
       "      <td>MALE</td>\n",
       "      <td>1966.00</td>\n",
       "      <td>NO</td>\n",
       "      <td>NO</td>\n",
       "      <td>NO</td>\n",
       "      <td>YES</td>\n",
       "      <td>NO</td>\n",
       "      <td>NO</td>\n",
       "      <td>NaN</td>\n",
       "      <td>NaN</td>\n",
       "      <td>...</td>\n",
       "      <td>NO</td>\n",
       "      <td>NO</td>\n",
       "      <td>NO</td>\n",
       "      <td>NO</td>\n",
       "      <td>NO</td>\n",
       "      <td>NO</td>\n",
       "      <td>NO</td>\n",
       "      <td>0.00</td>\n",
       "      <td>Diabetic</td>\n",
       "      <td>POSITIVE</td>\n",
       "    </tr>\n",
       "    <tr>\n",
       "      <th>4</th>\n",
       "      <td>FEMALE</td>\n",
       "      <td>2001.00</td>\n",
       "      <td>NO</td>\n",
       "      <td>NO</td>\n",
       "      <td>NO</td>\n",
       "      <td>NO</td>\n",
       "      <td>NO</td>\n",
       "      <td>NO</td>\n",
       "      <td>NaN</td>\n",
       "      <td>NaN</td>\n",
       "      <td>...</td>\n",
       "      <td>NO</td>\n",
       "      <td>NO</td>\n",
       "      <td>NO</td>\n",
       "      <td>NO</td>\n",
       "      <td>NO</td>\n",
       "      <td>NO</td>\n",
       "      <td>NO</td>\n",
       "      <td>0.00</td>\n",
       "      <td>shortness of breath</td>\n",
       "      <td>NEGATIVE</td>\n",
       "    </tr>\n",
       "    <tr>\n",
       "      <th>...</th>\n",
       "      <td>...</td>\n",
       "      <td>...</td>\n",
       "      <td>...</td>\n",
       "      <td>...</td>\n",
       "      <td>...</td>\n",
       "      <td>...</td>\n",
       "      <td>...</td>\n",
       "      <td>...</td>\n",
       "      <td>...</td>\n",
       "      <td>...</td>\n",
       "      <td>...</td>\n",
       "      <td>...</td>\n",
       "      <td>...</td>\n",
       "      <td>...</td>\n",
       "      <td>...</td>\n",
       "      <td>...</td>\n",
       "      <td>...</td>\n",
       "      <td>...</td>\n",
       "      <td>...</td>\n",
       "      <td>...</td>\n",
       "      <td>...</td>\n",
       "    </tr>\n",
       "    <tr>\n",
       "      <th>109922</th>\n",
       "      <td>MALE</td>\n",
       "      <td>NaN</td>\n",
       "      <td>NO</td>\n",
       "      <td>NaN</td>\n",
       "      <td>NaN</td>\n",
       "      <td>NO</td>\n",
       "      <td>NO</td>\n",
       "      <td>NaN</td>\n",
       "      <td>NaN</td>\n",
       "      <td>NaN</td>\n",
       "      <td>...</td>\n",
       "      <td>NaN</td>\n",
       "      <td>NaN</td>\n",
       "      <td>NaN</td>\n",
       "      <td>NaN</td>\n",
       "      <td>NaN</td>\n",
       "      <td>NaN</td>\n",
       "      <td>NaN</td>\n",
       "      <td>NaN</td>\n",
       "      <td>NaN</td>\n",
       "      <td>NEGATIVE</td>\n",
       "    </tr>\n",
       "    <tr>\n",
       "      <th>109923</th>\n",
       "      <td>MALE</td>\n",
       "      <td>1996.00</td>\n",
       "      <td>NO</td>\n",
       "      <td>NaN</td>\n",
       "      <td>NaN</td>\n",
       "      <td>NO</td>\n",
       "      <td>NO</td>\n",
       "      <td>NaN</td>\n",
       "      <td>NaN</td>\n",
       "      <td>NaN</td>\n",
       "      <td>...</td>\n",
       "      <td>NaN</td>\n",
       "      <td>NaN</td>\n",
       "      <td>NaN</td>\n",
       "      <td>NaN</td>\n",
       "      <td>NaN</td>\n",
       "      <td>NaN</td>\n",
       "      <td>NaN</td>\n",
       "      <td>NaN</td>\n",
       "      <td>NaN</td>\n",
       "      <td>NEGATIVE</td>\n",
       "    </tr>\n",
       "    <tr>\n",
       "      <th>109924</th>\n",
       "      <td>MALE</td>\n",
       "      <td>1986.00</td>\n",
       "      <td>NO</td>\n",
       "      <td>NaN</td>\n",
       "      <td>NaN</td>\n",
       "      <td>NO</td>\n",
       "      <td>NO</td>\n",
       "      <td>NaN</td>\n",
       "      <td>NaN</td>\n",
       "      <td>NaN</td>\n",
       "      <td>...</td>\n",
       "      <td>NaN</td>\n",
       "      <td>NaN</td>\n",
       "      <td>NaN</td>\n",
       "      <td>NaN</td>\n",
       "      <td>NaN</td>\n",
       "      <td>NaN</td>\n",
       "      <td>NaN</td>\n",
       "      <td>NaN</td>\n",
       "      <td>NaN</td>\n",
       "      <td>POSITIVE</td>\n",
       "    </tr>\n",
       "    <tr>\n",
       "      <th>109925</th>\n",
       "      <td>MALE</td>\n",
       "      <td>1996.00</td>\n",
       "      <td>NO</td>\n",
       "      <td>NaN</td>\n",
       "      <td>NaN</td>\n",
       "      <td>NO</td>\n",
       "      <td>NO</td>\n",
       "      <td>NaN</td>\n",
       "      <td>NaN</td>\n",
       "      <td>NaN</td>\n",
       "      <td>...</td>\n",
       "      <td>NaN</td>\n",
       "      <td>NaN</td>\n",
       "      <td>NaN</td>\n",
       "      <td>NaN</td>\n",
       "      <td>NaN</td>\n",
       "      <td>NaN</td>\n",
       "      <td>NaN</td>\n",
       "      <td>NaN</td>\n",
       "      <td>NaN</td>\n",
       "      <td>NEGATIVE</td>\n",
       "    </tr>\n",
       "    <tr>\n",
       "      <th>109926</th>\n",
       "      <td>FEMALE</td>\n",
       "      <td>1990.00</td>\n",
       "      <td>NaN</td>\n",
       "      <td>NaN</td>\n",
       "      <td>NaN</td>\n",
       "      <td>NaN</td>\n",
       "      <td>NaN</td>\n",
       "      <td>NaN</td>\n",
       "      <td>NaN</td>\n",
       "      <td>NaN</td>\n",
       "      <td>...</td>\n",
       "      <td>NaN</td>\n",
       "      <td>NaN</td>\n",
       "      <td>NaN</td>\n",
       "      <td>NaN</td>\n",
       "      <td>NaN</td>\n",
       "      <td>NaN</td>\n",
       "      <td>NaN</td>\n",
       "      <td>NaN</td>\n",
       "      <td>NaN</td>\n",
       "      <td>PENDING</td>\n",
       "    </tr>\n",
       "  </tbody>\n",
       "</table>\n",
       "<p>109927 rows × 47 columns</p>\n",
       "</div>"
      ],
      "text/plain": [
       "           Sex  Birth Year Chest pain Chills or sweats  \\\n",
       "0         MALE     1960.00         NO               NO   \n",
       "1         MALE     1990.00         NO               NO   \n",
       "2       FEMALE     1918.00        YES              YES   \n",
       "3         MALE     1966.00         NO               NO   \n",
       "4       FEMALE     2001.00         NO               NO   \n",
       "...        ...         ...        ...              ...   \n",
       "109922    MALE         NaN         NO              NaN   \n",
       "109923    MALE     1996.00         NO              NaN   \n",
       "109924    MALE     1986.00         NO              NaN   \n",
       "109925    MALE     1996.00         NO              NaN   \n",
       "109926  FEMALE     1990.00        NaN              NaN   \n",
       "\n",
       "       Confused or disoriented Cough Diarrhea Difficulty breathing or Dyspnea  \\\n",
       "0                           NO   YES       NO                              NO   \n",
       "1                      UNKNOWN   YES      YES                             YES   \n",
       "2                          NaN   YES      YES                             YES   \n",
       "3                           NO   YES       NO                              NO   \n",
       "4                           NO    NO       NO                              NO   \n",
       "...                        ...   ...      ...                             ...   \n",
       "109922                     NaN    NO       NO                             NaN   \n",
       "109923                     NaN    NO       NO                             NaN   \n",
       "109924                     NaN    NO       NO                             NaN   \n",
       "109925                     NaN    NO       NO                             NaN   \n",
       "109926                     NaN   NaN      NaN                             NaN   \n",
       "\n",
       "       Digested blood or coffee grounds in vomit  \\\n",
       "0                                            NaN   \n",
       "1                                            NaN   \n",
       "2                                            NaN   \n",
       "3                                            NaN   \n",
       "4                                            NaN   \n",
       "...                                          ...   \n",
       "109922                                       NaN   \n",
       "109923                                       NaN   \n",
       "109924                                       NaN   \n",
       "109925                                       NaN   \n",
       "109926                                       NaN   \n",
       "\n",
       "       Pain behind eyes or Sensitivity to light  ... Cough with sputum  \\\n",
       "0                                           NaN  ...                NO   \n",
       "1                                           NaN  ...                NO   \n",
       "2                                           NaN  ...               NaN   \n",
       "3                                           NaN  ...                NO   \n",
       "4                                           NaN  ...                NO   \n",
       "...                                         ...  ...               ...   \n",
       "109922                                      NaN  ...               NaN   \n",
       "109923                                      NaN  ...               NaN   \n",
       "109924                                      NaN  ...               NaN   \n",
       "109925                                      NaN  ...               NaN   \n",
       "109926                                      NaN  ...               NaN   \n",
       "\n",
       "       Cough with heamoptysis Enlarged lymph nodes Wheezing Skin ulcers  \\\n",
       "0                          NO                   NO       NO          NO   \n",
       "1                          NO                   NO       NO          NO   \n",
       "2                         NaN                  NaN      NaN         NaN   \n",
       "3                          NO                   NO       NO          NO   \n",
       "4                          NO                   NO       NO          NO   \n",
       "...                       ...                  ...      ...         ...   \n",
       "109922                    NaN                  NaN      NaN         NaN   \n",
       "109923                    NaN                  NaN      NaN         NaN   \n",
       "109924                    NaN                  NaN      NaN         NaN   \n",
       "109925                    NaN                  NaN      NaN         NaN   \n",
       "109926                    NaN                  NaN      NaN         NaN   \n",
       "\n",
       "       Inability to walk Indrawing of chest wall Other complications  \\\n",
       "0                     NO                      NO                0.00   \n",
       "1                     NO                      NO                0.00   \n",
       "2                    NaN                     NaN                0.00   \n",
       "3                     NO                      NO                0.00   \n",
       "4                     NO                      NO                0.00   \n",
       "...                  ...                     ...                 ...   \n",
       "109922               NaN                     NaN                 NaN   \n",
       "109923               NaN                     NaN                 NaN   \n",
       "109924               NaN                     NaN                 NaN   \n",
       "109925               NaN                     NaN                 NaN   \n",
       "109926               NaN                     NaN                 NaN   \n",
       "\n",
       "                Specify other complications    Result  \n",
       "0       Acute respiratory distress syndrome  NEGATIVE  \n",
       "1                                      ARDS  NEGATIVE  \n",
       "2                                      ARDS  NEGATIVE  \n",
       "3                                  Diabetic  POSITIVE  \n",
       "4                       shortness of breath  NEGATIVE  \n",
       "...                                     ...       ...  \n",
       "109922                                  NaN  NEGATIVE  \n",
       "109923                                  NaN  NEGATIVE  \n",
       "109924                                  NaN  POSITIVE  \n",
       "109925                                  NaN  NEGATIVE  \n",
       "109926                                  NaN   PENDING  \n",
       "\n",
       "[109927 rows x 47 columns]"
      ]
     },
     "execution_count": 28,
     "metadata": {},
     "output_type": "execute_result"
    }
   ],
   "source": [
    "df"
   ]
  },
  {
   "cell_type": "markdown",
   "metadata": {
    "id": "-xpKsZrmXB1h"
   },
   "source": [
    "# Exploratory Data Analysis"
   ]
  },
  {
   "cell_type": "markdown",
   "metadata": {
    "id": "iSLEtrXjxRu6"
   },
   "source": [
    "Data Cleaning"
   ]
  },
  {
   "cell_type": "code",
   "execution_count": null,
   "metadata": {
    "colab": {
     "base_uri": "https://localhost:8080/",
     "height": 1000
    },
    "executionInfo": {
     "elapsed": 19,
     "status": "ok",
     "timestamp": 1741415222019,
     "user": {
      "displayName": "Victor Idakwo",
      "userId": "04998244974704889295"
     },
     "user_tz": -60
    },
    "id": "Fnarae_GimDr",
    "outputId": "9325ac4c-1093-4ba2-bdbb-b1c6290c56ed"
   },
   "outputs": [
    {
     "data": {
      "text/plain": [
       "Sex                                            2699\n",
       "Birth Year                                    14964\n",
       "Chest pain                                    67807\n",
       "Chills or sweats                              85070\n",
       "Confused or disoriented                       86800\n",
       "Cough                                         67709\n",
       "Diarrhea                                      67835\n",
       "Difficulty breathing or Dyspnea               84987\n",
       "Digested blood or coffee grounds in vomit    108530\n",
       "Pain behind eyes or Sensitivity to light     108522\n",
       "Bleeding from the eyes                       108530\n",
       "Fatigue or general weakness                   67769\n",
       "Fever                                         67698\n",
       "Fluid in the lung cavity                     108523\n",
       "Fluid in lung cavity in auscultation          86501\n",
       "Fluid in cavity through X-Ray                 86511\n",
       "Bleeding of the gums                         108530\n",
       "Headache                                      67847\n",
       "Joint pain or arthritis                       85097\n",
       "Thorax (sore throat)                          69257\n",
       "Malaise                                      106921\n",
       "Muscle pain                                   86493\n",
       "Nausea                                        69253\n",
       "Other clinical symptoms                       86421\n",
       "Pharyngeal exudate                           106928\n",
       "Rapid breathing                               87098\n",
       "Runny nose                                    69250\n",
       "Maculopapular rash                            88895\n",
       "Sore throat or pharyngitis                    69257\n",
       "Bleeding or bruising                          88897\n",
       "Vomiting                                      69258\n",
       "Abnormal lung X-Ray findings                  86361\n",
       "Conjunctivitis                                91274\n",
       "Acute respiratory distress syndrome           86395\n",
       "Pneumonia (clinical or radiologic)            86513\n",
       "Loss of Taste                                 70090\n",
       "Loss of Smell                                 70098\n",
       "Cough with sputum                             87746\n",
       "Cough with heamoptysis                        87747\n",
       "Enlarged lymph nodes                          88884\n",
       "Wheezing                                      88902\n",
       "Skin ulcers                                   88904\n",
       "Inability to walk                             88895\n",
       "Indrawing of chest wall                       88904\n",
       "Other complications                           89175\n",
       "Specify other complications                  109922\n",
       "Result                                        34511\n",
       "dtype: int64"
      ]
     },
     "execution_count": 57,
     "metadata": {},
     "output_type": "execute_result"
    }
   ],
   "source": [
    "# checking for null and empty cells\n",
    "df.isna().sum()"
   ]
  },
  {
   "cell_type": "code",
   "execution_count": null,
   "metadata": {
    "executionInfo": {
     "elapsed": 93,
     "status": "ok",
     "timestamp": 1741415229028,
     "user": {
      "displayName": "Victor Idakwo",
      "userId": "04998244974704889295"
     },
     "user_tz": -60
    },
    "id": "UMGAoSE3X2EQ"
   },
   "outputs": [],
   "source": [
    "# Remove columns that are completely empty\n",
    "\n",
    "df_cleaned = df.dropna(axis=1, how='all') # since an empty column is of no use, I had to remove them\n"
   ]
  },
  {
   "cell_type": "code",
   "execution_count": null,
   "metadata": {
    "executionInfo": {
     "elapsed": 594,
     "status": "ok",
     "timestamp": 1741415234589,
     "user": {
      "displayName": "Victor Idakwo",
      "userId": "04998244974704889295"
     },
     "user_tz": -60
    },
    "id": "Gu9m1MloX4M0"
   },
   "outputs": [],
   "source": [
    "#Replacing 'NO' with 0 and 'YES' with 1 in the relevant columns\n",
    "\n",
    "for column in df_cleaned.select_dtypes(include=['object']).columns: #Only replaces in columns with object type\n",
    "    df_cleaned[column] = df_cleaned[column].replace({'NO': 0, 'YES': 1}).astype(int, errors='ignore')"
   ]
  },
  {
   "cell_type": "code",
   "execution_count": 32,
   "metadata": {
    "executionInfo": {
     "elapsed": 26,
     "status": "ok",
     "timestamp": 1741415237223,
     "user": {
      "displayName": "Victor Idakwo",
      "userId": "04998244974704889295"
     },
     "user_tz": -60
    },
    "id": "FqxaWpOWX39P"
   },
   "outputs": [],
   "source": [
    "# Converting 'Result' column to 1 for 'Positive' and 0 for 'Negative'\n",
    "df_cleaned['Result'] = df_cleaned['Result'].map({'POSITIVE': 1, 'NEGATIVE': 0}).astype(int, errors='ignore')\n"
   ]
  },
  {
   "cell_type": "code",
   "execution_count": null,
   "metadata": {
    "executionInfo": {
     "elapsed": 719,
     "status": "ok",
     "timestamp": 1741415241758,
     "user": {
      "displayName": "Victor Idakwo",
      "userId": "04998244974704889295"
     },
     "user_tz": -60
    },
    "id": "PG_9nnN8o5rG"
   },
   "outputs": [],
   "source": [
    "# Replace \"UNKNOWN\" and NaN with 0 \n",
    "# - since all rows in one way or the other has empty cells remove rows with NaN was not advisable \n",
    "df_cleaned.replace(\"UNKNOWN\", 0, inplace=True)\n",
    "df_cleaned.fillna(0, inplace=True)"
   ]
  },
  {
   "cell_type": "code",
   "execution_count": null,
   "metadata": {
    "colab": {
     "base_uri": "https://localhost:8080/"
    },
    "executionInfo": {
     "elapsed": 20,
     "status": "ok",
     "timestamp": 1741415248595,
     "user": {
      "displayName": "Victor Idakwo",
      "userId": "04998244974704889295"
     },
     "user_tz": -60
    },
    "id": "YLDLww3UYO0i",
    "outputId": "8245630d-4486-4662-fa4e-c272c9677cb9"
   },
   "outputs": [
    {
     "name": "stdout",
     "output_type": "stream",
     "text": [
      "      Sex  Birth Year  Chest pain  Chills or sweats  Confused or disoriented  \\\n",
      "0    MALE     1960.00        0.00              0.00                     0.00   \n",
      "1    MALE     1990.00        0.00              0.00                     0.00   \n",
      "2  FEMALE     1918.00        1.00              1.00                     0.00   \n",
      "3    MALE     1966.00        0.00              0.00                     0.00   \n",
      "4  FEMALE     2001.00        0.00              0.00                     0.00   \n",
      "\n",
      "   Cough  Diarrhea  Difficulty breathing or Dyspnea  \\\n",
      "0   1.00      0.00                             0.00   \n",
      "1   1.00      1.00                             1.00   \n",
      "2   1.00      1.00                             1.00   \n",
      "3   1.00      0.00                             0.00   \n",
      "4   0.00      0.00                             0.00   \n",
      "\n",
      "   Digested blood or coffee grounds in vomit  \\\n",
      "0                                       0.00   \n",
      "1                                       0.00   \n",
      "2                                       0.00   \n",
      "3                                       0.00   \n",
      "4                                       0.00   \n",
      "\n",
      "   Pain behind eyes or Sensitivity to light  ...  Cough with sputum  \\\n",
      "0                                      0.00  ...               0.00   \n",
      "1                                      0.00  ...               0.00   \n",
      "2                                      0.00  ...               0.00   \n",
      "3                                      0.00  ...               0.00   \n",
      "4                                      0.00  ...               0.00   \n",
      "\n",
      "   Cough with heamoptysis  Enlarged lymph nodes  Wheezing  Skin ulcers  \\\n",
      "0                    0.00                  0.00      0.00         0.00   \n",
      "1                    0.00                  0.00      0.00         0.00   \n",
      "2                    0.00                  0.00      0.00         0.00   \n",
      "3                    0.00                  0.00      0.00         0.00   \n",
      "4                    0.00                  0.00      0.00         0.00   \n",
      "\n",
      "   Inability to walk  Indrawing of chest wall  Other complications  \\\n",
      "0               0.00                     0.00                 0.00   \n",
      "1               0.00                     0.00                 0.00   \n",
      "2               0.00                     0.00                 0.00   \n",
      "3               0.00                     0.00                 0.00   \n",
      "4               0.00                     0.00                 0.00   \n",
      "\n",
      "           Specify other complications  Result  \n",
      "0  Acute respiratory distress syndrome    0.00  \n",
      "1                                 ARDS    0.00  \n",
      "2                                 ARDS    0.00  \n",
      "3                             Diabetic    1.00  \n",
      "4                  shortness of breath    0.00  \n",
      "\n",
      "[5 rows x 47 columns]\n"
     ]
    }
   ],
   "source": [
    "#  df is cleaned and ready for prediction tasks and saved with a new dataframe 'df_cleaned'\n",
    "print(df_cleaned.head())"
   ]
  },
  {
   "cell_type": "code",
   "execution_count": null,
   "metadata": {
    "colab": {
     "base_uri": "https://localhost:8080/",
     "height": 582
    },
    "executionInfo": {
     "elapsed": 207,
     "status": "ok",
     "timestamp": 1741415255234,
     "user": {
      "displayName": "Victor Idakwo",
      "userId": "04998244974704889295"
     },
     "user_tz": -60
    },
    "id": "MwgBk3aUbQMo",
    "outputId": "89c0197e-4c5c-497f-b937-55a7feb148f3"
   },
   "outputs": [
    {
     "data": {
      "text/html": [
       "<div>\n",
       "<style scoped>\n",
       "    .dataframe tbody tr th:only-of-type {\n",
       "        vertical-align: middle;\n",
       "    }\n",
       "\n",
       "    .dataframe tbody tr th {\n",
       "        vertical-align: top;\n",
       "    }\n",
       "\n",
       "    .dataframe thead th {\n",
       "        text-align: right;\n",
       "    }\n",
       "</style>\n",
       "<table border=\"1\" class=\"dataframe\">\n",
       "  <thead>\n",
       "    <tr style=\"text-align: right;\">\n",
       "      <th></th>\n",
       "      <th>Sex</th>\n",
       "      <th>Birth Year</th>\n",
       "      <th>Chest pain</th>\n",
       "      <th>Chills or sweats</th>\n",
       "      <th>Confused or disoriented</th>\n",
       "      <th>Cough</th>\n",
       "      <th>Diarrhea</th>\n",
       "      <th>Difficulty breathing or Dyspnea</th>\n",
       "      <th>Digested blood or coffee grounds in vomit</th>\n",
       "      <th>Pain behind eyes or Sensitivity to light</th>\n",
       "      <th>...</th>\n",
       "      <th>Cough with sputum</th>\n",
       "      <th>Cough with heamoptysis</th>\n",
       "      <th>Enlarged lymph nodes</th>\n",
       "      <th>Wheezing</th>\n",
       "      <th>Skin ulcers</th>\n",
       "      <th>Inability to walk</th>\n",
       "      <th>Indrawing of chest wall</th>\n",
       "      <th>Other complications</th>\n",
       "      <th>Specify other complications</th>\n",
       "      <th>Result</th>\n",
       "    </tr>\n",
       "  </thead>\n",
       "  <tbody>\n",
       "    <tr>\n",
       "      <th>0</th>\n",
       "      <td>MALE</td>\n",
       "      <td>1960.00</td>\n",
       "      <td>0.00</td>\n",
       "      <td>0.00</td>\n",
       "      <td>0.00</td>\n",
       "      <td>1.00</td>\n",
       "      <td>0.00</td>\n",
       "      <td>0.00</td>\n",
       "      <td>0.00</td>\n",
       "      <td>0.00</td>\n",
       "      <td>...</td>\n",
       "      <td>0.00</td>\n",
       "      <td>0.00</td>\n",
       "      <td>0.00</td>\n",
       "      <td>0.00</td>\n",
       "      <td>0.00</td>\n",
       "      <td>0.00</td>\n",
       "      <td>0.00</td>\n",
       "      <td>0.00</td>\n",
       "      <td>Acute respiratory distress syndrome</td>\n",
       "      <td>0.00</td>\n",
       "    </tr>\n",
       "    <tr>\n",
       "      <th>1</th>\n",
       "      <td>MALE</td>\n",
       "      <td>1990.00</td>\n",
       "      <td>0.00</td>\n",
       "      <td>0.00</td>\n",
       "      <td>0.00</td>\n",
       "      <td>1.00</td>\n",
       "      <td>1.00</td>\n",
       "      <td>1.00</td>\n",
       "      <td>0.00</td>\n",
       "      <td>0.00</td>\n",
       "      <td>...</td>\n",
       "      <td>0.00</td>\n",
       "      <td>0.00</td>\n",
       "      <td>0.00</td>\n",
       "      <td>0.00</td>\n",
       "      <td>0.00</td>\n",
       "      <td>0.00</td>\n",
       "      <td>0.00</td>\n",
       "      <td>0.00</td>\n",
       "      <td>ARDS</td>\n",
       "      <td>0.00</td>\n",
       "    </tr>\n",
       "    <tr>\n",
       "      <th>2</th>\n",
       "      <td>FEMALE</td>\n",
       "      <td>1918.00</td>\n",
       "      <td>1.00</td>\n",
       "      <td>1.00</td>\n",
       "      <td>0.00</td>\n",
       "      <td>1.00</td>\n",
       "      <td>1.00</td>\n",
       "      <td>1.00</td>\n",
       "      <td>0.00</td>\n",
       "      <td>0.00</td>\n",
       "      <td>...</td>\n",
       "      <td>0.00</td>\n",
       "      <td>0.00</td>\n",
       "      <td>0.00</td>\n",
       "      <td>0.00</td>\n",
       "      <td>0.00</td>\n",
       "      <td>0.00</td>\n",
       "      <td>0.00</td>\n",
       "      <td>0.00</td>\n",
       "      <td>ARDS</td>\n",
       "      <td>0.00</td>\n",
       "    </tr>\n",
       "    <tr>\n",
       "      <th>3</th>\n",
       "      <td>MALE</td>\n",
       "      <td>1966.00</td>\n",
       "      <td>0.00</td>\n",
       "      <td>0.00</td>\n",
       "      <td>0.00</td>\n",
       "      <td>1.00</td>\n",
       "      <td>0.00</td>\n",
       "      <td>0.00</td>\n",
       "      <td>0.00</td>\n",
       "      <td>0.00</td>\n",
       "      <td>...</td>\n",
       "      <td>0.00</td>\n",
       "      <td>0.00</td>\n",
       "      <td>0.00</td>\n",
       "      <td>0.00</td>\n",
       "      <td>0.00</td>\n",
       "      <td>0.00</td>\n",
       "      <td>0.00</td>\n",
       "      <td>0.00</td>\n",
       "      <td>Diabetic</td>\n",
       "      <td>1.00</td>\n",
       "    </tr>\n",
       "    <tr>\n",
       "      <th>4</th>\n",
       "      <td>FEMALE</td>\n",
       "      <td>2001.00</td>\n",
       "      <td>0.00</td>\n",
       "      <td>0.00</td>\n",
       "      <td>0.00</td>\n",
       "      <td>0.00</td>\n",
       "      <td>0.00</td>\n",
       "      <td>0.00</td>\n",
       "      <td>0.00</td>\n",
       "      <td>0.00</td>\n",
       "      <td>...</td>\n",
       "      <td>0.00</td>\n",
       "      <td>0.00</td>\n",
       "      <td>0.00</td>\n",
       "      <td>0.00</td>\n",
       "      <td>0.00</td>\n",
       "      <td>0.00</td>\n",
       "      <td>0.00</td>\n",
       "      <td>0.00</td>\n",
       "      <td>shortness of breath</td>\n",
       "      <td>0.00</td>\n",
       "    </tr>\n",
       "    <tr>\n",
       "      <th>...</th>\n",
       "      <td>...</td>\n",
       "      <td>...</td>\n",
       "      <td>...</td>\n",
       "      <td>...</td>\n",
       "      <td>...</td>\n",
       "      <td>...</td>\n",
       "      <td>...</td>\n",
       "      <td>...</td>\n",
       "      <td>...</td>\n",
       "      <td>...</td>\n",
       "      <td>...</td>\n",
       "      <td>...</td>\n",
       "      <td>...</td>\n",
       "      <td>...</td>\n",
       "      <td>...</td>\n",
       "      <td>...</td>\n",
       "      <td>...</td>\n",
       "      <td>...</td>\n",
       "      <td>...</td>\n",
       "      <td>...</td>\n",
       "      <td>...</td>\n",
       "    </tr>\n",
       "    <tr>\n",
       "      <th>109922</th>\n",
       "      <td>MALE</td>\n",
       "      <td>0.00</td>\n",
       "      <td>0.00</td>\n",
       "      <td>0.00</td>\n",
       "      <td>0.00</td>\n",
       "      <td>0.00</td>\n",
       "      <td>0.00</td>\n",
       "      <td>0.00</td>\n",
       "      <td>0.00</td>\n",
       "      <td>0.00</td>\n",
       "      <td>...</td>\n",
       "      <td>0.00</td>\n",
       "      <td>0.00</td>\n",
       "      <td>0.00</td>\n",
       "      <td>0.00</td>\n",
       "      <td>0.00</td>\n",
       "      <td>0.00</td>\n",
       "      <td>0.00</td>\n",
       "      <td>0.00</td>\n",
       "      <td>0</td>\n",
       "      <td>0.00</td>\n",
       "    </tr>\n",
       "    <tr>\n",
       "      <th>109923</th>\n",
       "      <td>MALE</td>\n",
       "      <td>1996.00</td>\n",
       "      <td>0.00</td>\n",
       "      <td>0.00</td>\n",
       "      <td>0.00</td>\n",
       "      <td>0.00</td>\n",
       "      <td>0.00</td>\n",
       "      <td>0.00</td>\n",
       "      <td>0.00</td>\n",
       "      <td>0.00</td>\n",
       "      <td>...</td>\n",
       "      <td>0.00</td>\n",
       "      <td>0.00</td>\n",
       "      <td>0.00</td>\n",
       "      <td>0.00</td>\n",
       "      <td>0.00</td>\n",
       "      <td>0.00</td>\n",
       "      <td>0.00</td>\n",
       "      <td>0.00</td>\n",
       "      <td>0</td>\n",
       "      <td>0.00</td>\n",
       "    </tr>\n",
       "    <tr>\n",
       "      <th>109924</th>\n",
       "      <td>MALE</td>\n",
       "      <td>1986.00</td>\n",
       "      <td>0.00</td>\n",
       "      <td>0.00</td>\n",
       "      <td>0.00</td>\n",
       "      <td>0.00</td>\n",
       "      <td>0.00</td>\n",
       "      <td>0.00</td>\n",
       "      <td>0.00</td>\n",
       "      <td>0.00</td>\n",
       "      <td>...</td>\n",
       "      <td>0.00</td>\n",
       "      <td>0.00</td>\n",
       "      <td>0.00</td>\n",
       "      <td>0.00</td>\n",
       "      <td>0.00</td>\n",
       "      <td>0.00</td>\n",
       "      <td>0.00</td>\n",
       "      <td>0.00</td>\n",
       "      <td>0</td>\n",
       "      <td>1.00</td>\n",
       "    </tr>\n",
       "    <tr>\n",
       "      <th>109925</th>\n",
       "      <td>MALE</td>\n",
       "      <td>1996.00</td>\n",
       "      <td>0.00</td>\n",
       "      <td>0.00</td>\n",
       "      <td>0.00</td>\n",
       "      <td>0.00</td>\n",
       "      <td>0.00</td>\n",
       "      <td>0.00</td>\n",
       "      <td>0.00</td>\n",
       "      <td>0.00</td>\n",
       "      <td>...</td>\n",
       "      <td>0.00</td>\n",
       "      <td>0.00</td>\n",
       "      <td>0.00</td>\n",
       "      <td>0.00</td>\n",
       "      <td>0.00</td>\n",
       "      <td>0.00</td>\n",
       "      <td>0.00</td>\n",
       "      <td>0.00</td>\n",
       "      <td>0</td>\n",
       "      <td>0.00</td>\n",
       "    </tr>\n",
       "    <tr>\n",
       "      <th>109926</th>\n",
       "      <td>FEMALE</td>\n",
       "      <td>1990.00</td>\n",
       "      <td>0.00</td>\n",
       "      <td>0.00</td>\n",
       "      <td>0.00</td>\n",
       "      <td>0.00</td>\n",
       "      <td>0.00</td>\n",
       "      <td>0.00</td>\n",
       "      <td>0.00</td>\n",
       "      <td>0.00</td>\n",
       "      <td>...</td>\n",
       "      <td>0.00</td>\n",
       "      <td>0.00</td>\n",
       "      <td>0.00</td>\n",
       "      <td>0.00</td>\n",
       "      <td>0.00</td>\n",
       "      <td>0.00</td>\n",
       "      <td>0.00</td>\n",
       "      <td>0.00</td>\n",
       "      <td>0</td>\n",
       "      <td>0.00</td>\n",
       "    </tr>\n",
       "  </tbody>\n",
       "</table>\n",
       "<p>109927 rows × 47 columns</p>\n",
       "</div>"
      ],
      "text/plain": [
       "           Sex  Birth Year  Chest pain  Chills or sweats  \\\n",
       "0         MALE     1960.00        0.00              0.00   \n",
       "1         MALE     1990.00        0.00              0.00   \n",
       "2       FEMALE     1918.00        1.00              1.00   \n",
       "3         MALE     1966.00        0.00              0.00   \n",
       "4       FEMALE     2001.00        0.00              0.00   \n",
       "...        ...         ...         ...               ...   \n",
       "109922    MALE        0.00        0.00              0.00   \n",
       "109923    MALE     1996.00        0.00              0.00   \n",
       "109924    MALE     1986.00        0.00              0.00   \n",
       "109925    MALE     1996.00        0.00              0.00   \n",
       "109926  FEMALE     1990.00        0.00              0.00   \n",
       "\n",
       "        Confused or disoriented  Cough  Diarrhea  \\\n",
       "0                          0.00   1.00      0.00   \n",
       "1                          0.00   1.00      1.00   \n",
       "2                          0.00   1.00      1.00   \n",
       "3                          0.00   1.00      0.00   \n",
       "4                          0.00   0.00      0.00   \n",
       "...                         ...    ...       ...   \n",
       "109922                     0.00   0.00      0.00   \n",
       "109923                     0.00   0.00      0.00   \n",
       "109924                     0.00   0.00      0.00   \n",
       "109925                     0.00   0.00      0.00   \n",
       "109926                     0.00   0.00      0.00   \n",
       "\n",
       "        Difficulty breathing or Dyspnea  \\\n",
       "0                                  0.00   \n",
       "1                                  1.00   \n",
       "2                                  1.00   \n",
       "3                                  0.00   \n",
       "4                                  0.00   \n",
       "...                                 ...   \n",
       "109922                             0.00   \n",
       "109923                             0.00   \n",
       "109924                             0.00   \n",
       "109925                             0.00   \n",
       "109926                             0.00   \n",
       "\n",
       "        Digested blood or coffee grounds in vomit  \\\n",
       "0                                            0.00   \n",
       "1                                            0.00   \n",
       "2                                            0.00   \n",
       "3                                            0.00   \n",
       "4                                            0.00   \n",
       "...                                           ...   \n",
       "109922                                       0.00   \n",
       "109923                                       0.00   \n",
       "109924                                       0.00   \n",
       "109925                                       0.00   \n",
       "109926                                       0.00   \n",
       "\n",
       "        Pain behind eyes or Sensitivity to light  ...  Cough with sputum  \\\n",
       "0                                           0.00  ...               0.00   \n",
       "1                                           0.00  ...               0.00   \n",
       "2                                           0.00  ...               0.00   \n",
       "3                                           0.00  ...               0.00   \n",
       "4                                           0.00  ...               0.00   \n",
       "...                                          ...  ...                ...   \n",
       "109922                                      0.00  ...               0.00   \n",
       "109923                                      0.00  ...               0.00   \n",
       "109924                                      0.00  ...               0.00   \n",
       "109925                                      0.00  ...               0.00   \n",
       "109926                                      0.00  ...               0.00   \n",
       "\n",
       "        Cough with heamoptysis  Enlarged lymph nodes  Wheezing  Skin ulcers  \\\n",
       "0                         0.00                  0.00      0.00         0.00   \n",
       "1                         0.00                  0.00      0.00         0.00   \n",
       "2                         0.00                  0.00      0.00         0.00   \n",
       "3                         0.00                  0.00      0.00         0.00   \n",
       "4                         0.00                  0.00      0.00         0.00   \n",
       "...                        ...                   ...       ...          ...   \n",
       "109922                    0.00                  0.00      0.00         0.00   \n",
       "109923                    0.00                  0.00      0.00         0.00   \n",
       "109924                    0.00                  0.00      0.00         0.00   \n",
       "109925                    0.00                  0.00      0.00         0.00   \n",
       "109926                    0.00                  0.00      0.00         0.00   \n",
       "\n",
       "        Inability to walk  Indrawing of chest wall  Other complications  \\\n",
       "0                    0.00                     0.00                 0.00   \n",
       "1                    0.00                     0.00                 0.00   \n",
       "2                    0.00                     0.00                 0.00   \n",
       "3                    0.00                     0.00                 0.00   \n",
       "4                    0.00                     0.00                 0.00   \n",
       "...                   ...                      ...                  ...   \n",
       "109922               0.00                     0.00                 0.00   \n",
       "109923               0.00                     0.00                 0.00   \n",
       "109924               0.00                     0.00                 0.00   \n",
       "109925               0.00                     0.00                 0.00   \n",
       "109926               0.00                     0.00                 0.00   \n",
       "\n",
       "                Specify other complications  Result  \n",
       "0       Acute respiratory distress syndrome    0.00  \n",
       "1                                      ARDS    0.00  \n",
       "2                                      ARDS    0.00  \n",
       "3                                  Diabetic    1.00  \n",
       "4                       shortness of breath    0.00  \n",
       "...                                     ...     ...  \n",
       "109922                                    0    0.00  \n",
       "109923                                    0    0.00  \n",
       "109924                                    0    1.00  \n",
       "109925                                    0    0.00  \n",
       "109926                                    0    0.00  \n",
       "\n",
       "[109927 rows x 47 columns]"
      ]
     },
     "execution_count": 35,
     "metadata": {},
     "output_type": "execute_result"
    }
   ],
   "source": [
    "# call out the clean records\n",
    "df_cleaned"
   ]
  },
  {
   "cell_type": "code",
   "execution_count": null,
   "metadata": {
    "executionInfo": {
     "elapsed": 10614,
     "status": "ok",
     "timestamp": 1741387076659,
     "user": {
      "displayName": "Victor Idakwo",
      "userId": "04998244974704889295"
     },
     "user_tz": -60
    },
    "id": "sBF5Ri2dfUSP"
   },
   "outputs": [],
   "source": [
    "# save  out the clean records as .csv\n",
    "df_cleaned.to_csv('cleaned_data.csv', index=False)"
   ]
  },
  {
   "cell_type": "code",
   "execution_count": null,
   "metadata": {
    "id": "9c720db8-52e4-4ced-ba97-859a9bbca34e"
   },
   "outputs": [],
   "source": [
    "# Define features and target variable"
   ]
  },
  {
   "cell_type": "code",
   "execution_count": null,
   "metadata": {
    "executionInfo": {
     "elapsed": 78,
     "status": "ok",
     "timestamp": 1741415346008,
     "user": {
      "displayName": "Victor Idakwo",
      "userId": "04998244974704889295"
     },
     "user_tz": -60
    },
    "id": "5d5e223f-ae2a-4b12-b6a9-4e1775005c02"
   },
   "outputs": [],
   "source": [
    "#- base on literature review the following variables are major symptoms of Covid19 and where selected\n",
    "# 'Chest pain', 'Chills or sweats', 'Confused or disoriented', 'Cough', 'Diarrhea', 'Difficulty breathing or Dyspnea', 'Cough with sputum', 'Cough with heamoptysis', 'Wheezing'\n",
    "\n",
    "features = [\n",
    "    'Chest pain', 'Chills or sweats', 'Confused or disoriented', 'Cough'\n",
    "    , 'Diarrhea', 'Difficulty breathing or Dyspnea', 'Cough with sputum', 'Cough with heamoptysis', 'Wheezing'\n",
    "]\n",
    "target = 'Result'"
   ]
  },
  {
   "cell_type": "code",
   "execution_count": null,
   "metadata": {
    "executionInfo": {
     "elapsed": 41,
     "status": "ok",
     "timestamp": 1741415349870,
     "user": {
      "displayName": "Victor Idakwo",
      "userId": "04998244974704889295"
     },
     "user_tz": -60
    },
    "id": "9ece6354-2bb4-4ca9-814e-0f13b27a0e1b"
   },
   "outputs": [],
   "source": [
    "df_cleaned['Result'] = df_cleaned['Result'].astype(int)  # I Ensured that target variable is numeric\n",
    "df_cleaned[features] = df_cleaned[features].astype(int)  # I Converted feature columns to numeric"
   ]
  },
  {
   "cell_type": "code",
   "execution_count": null,
   "metadata": {
    "id": "3d0236ec-37f2-41a3-a74b-8ee1d7584085"
   },
   "outputs": [],
   "source": [
    "# Prepare feature matrix X and target vector y"
   ]
  },
  {
   "cell_type": "code",
   "execution_count": 39,
   "metadata": {
    "executionInfo": {
     "elapsed": 6,
     "status": "ok",
     "timestamp": 1741415352796,
     "user": {
      "displayName": "Victor Idakwo",
      "userId": "04998244974704889295"
     },
     "user_tz": -60
    },
    "id": "186bb821-b287-48a8-93b6-53207f5ffa60"
   },
   "outputs": [],
   "source": [
    "X = df_cleaned[features]\n",
    "y = df_cleaned[target]"
   ]
  },
  {
   "cell_type": "markdown",
   "metadata": {
    "id": "MxHNlqcm1uYE"
   },
   "source": [
    "# Feature Engineering\n",
    "For the Feature engineering, Variance Inflation Factore was first perform to check for multi-coliniarity then Feature importance was carried to see how the difference variables are doing and their predictive power to the independent variable in this case covid19"
   ]
  },
  {
   "cell_type": "code",
   "execution_count": 41,
   "metadata": {
    "colab": {
     "base_uri": "https://localhost:8080/"
    },
    "executionInfo": {
     "elapsed": 824,
     "status": "ok",
     "timestamp": 1741415357115,
     "user": {
      "displayName": "Victor Idakwo",
      "userId": "04998244974704889295"
     },
     "user_tz": -60
    },
    "id": "e968619a-f76b-4683-83ce-20ba9a923191",
    "outputId": "3f5d9140-5e4a-4ad0-c539-305798fe0770"
   },
   "outputs": [
    {
     "name": "stdout",
     "output_type": "stream",
     "text": [
      "VIF Values:\n",
      "                           Feature  VIF\n",
      "0                        Intercept 1.01\n",
      "1                       Chest pain 1.17\n",
      "2                 Chills or sweats 1.12\n",
      "3          Confused or disoriented 1.04\n",
      "4                            Cough 1.29\n",
      "5                         Diarrhea 1.07\n",
      "6  Difficulty breathing or Dyspnea 1.23\n",
      "7                Cough with sputum 1.19\n",
      "8           Cough with heamoptysis 1.11\n",
      "9                         Wheezing 1.00\n"
     ]
    }
   ],
   "source": [
    "# Calculate VIF (Variance Inflation Factor)\n",
    "X_constant = sm.add_constant(X)\n",
    "vif = [variance_inflation_factor(X_constant.values, i) for i in range(X_constant.shape[1])]\n",
    "vif_df = pd.DataFrame({'Feature': ['Intercept'] + features, 'VIF': vif})\n",
    "print(\"VIF Values:\")\n",
    "print(vif_df)"
   ]
  },
  {
   "cell_type": "code",
   "execution_count": null,
   "metadata": {
    "id": "l86uJEP8KZDe"
   },
   "outputs": [],
   "source": []
  },
  {
   "cell_type": "code",
   "execution_count": 42,
   "metadata": {
    "colab": {
     "base_uri": "https://localhost:8080/",
     "height": 978
    },
    "executionInfo": {
     "elapsed": 3451,
     "status": "ok",
     "timestamp": 1741415366611,
     "user": {
      "displayName": "Victor Idakwo",
      "userId": "04998244974704889295"
     },
     "user_tz": -60
    },
    "id": "1kTPOiveGPZ4",
    "outputId": "7856718a-1029-4c14-fa82-384840acc6a4"
   },
   "outputs": [
    {
     "name": "stdout",
     "output_type": "stream",
     "text": [
      "\n",
      "Feature Importances:\n",
      "                           Feature  Random Forest Importance  \\\n",
      "3                            Cough                      0.64   \n",
      "5  Difficulty breathing or Dyspnea                      0.10   \n",
      "6                Cough with sputum                      0.07   \n",
      "4                         Diarrhea                      0.07   \n",
      "0                       Chest pain                      0.06   \n",
      "1                 Chills or sweats                      0.04   \n",
      "2          Confused or disoriented                      0.02   \n",
      "8                         Wheezing                      0.00   \n",
      "7           Cough with heamoptysis                      0.00   \n",
      "\n",
      "   Logistic Regression Coefficient  \n",
      "3                             1.91  \n",
      "5                             0.17  \n",
      "6                             0.84  \n",
      "4                             0.33  \n",
      "0                             0.45  \n",
      "1                             0.07  \n",
      "2                             0.04  \n",
      "8                             0.03  \n",
      "7                             0.10  \n"
     ]
    },
    {
     "data": {
      "image/png": "[encoded data removed]",
      "text/plain": [
       "<Figure size 1000x600 with 1 Axes>"
      ]
     },
     "metadata": {},
     "output_type": "display_data"
    }
   ],
   "source": [
    "# Random Forest Feature Importance\n",
    "rf_model = RandomForestClassifier(random_state=42)\n",
    "rf_model.fit(X, y)\n",
    "rf_importances = rf_model.feature_importances_\n",
    "\n",
    "# Logistic Regression Coefficients\n",
    "log_reg_model = LogisticRegression(max_iter=1000)\n",
    "log_reg_model.fit(X, y)\n",
    "log_reg_coefficients = np.abs(log_reg_model.coef_[0])\n",
    "\n",
    "# Create a DataFrame for feature importances\n",
    "importance_df = pd.DataFrame({\n",
    "    'Feature': features,\n",
    "    'Random Forest Importance': rf_importances,\n",
    "    'Logistic Regression Coefficient': log_reg_coefficients\n",
    "}).sort_values(by='Random Forest Importance', ascending=False)\n",
    "\n",
    "print(\"\\nFeature Importances:\")\n",
    "print(importance_df)\n",
    "\n",
    "# Plot Feature Importances\n",
    "importance_df.set_index('Feature').plot(kind='bar', figsize=(10, 6))\n",
    "plt.title('Feature Importances')\n",
    "plt.ylabel('Importance')\n",
    "plt.xlabel('Features')\n",
    "plt.legend(loc='upper right')\n",
    "plt.tight_layout()\n",
    "plt.show()\n",
    "\n",
    "# SHAP Values for Feature Interpretability\n",
    "#explainer = shap.Explainer(rf_model, X)\n",
    "#shap_values = explainer(X)\n",
    "\n",
    "# Plot SHAP summary plot\n",
    "#shap.summary_plot(shap_values, X, plot_type=\"bar\")"
   ]
  },
  {
   "cell_type": "markdown",
   "metadata": {
    "id": "UqDDk4BZ2opf"
   },
   "source": [
    "# Choosing Models\n",
    "Using Lazy Predict, machine learning models were quickly generated using Varibles to see their perfromance and runtime. this helps to identify Models Before Tunning them for best performance"
   ]
  },
  {
   "cell_type": "code",
   "execution_count": null,
   "metadata": {
    "colab": {
     "base_uri": "https://localhost:8080/"
    },
    "id": "XJvlRtJUPyUT",
    "outputId": "a2e9d755-771f-49e5-bf87-fae4e4f08ece"
   },
   "outputs": [],
   "source": [
    "# Split the data into train and test sets\n",
    "X_train, X_test, y_train, y_test = train_test_split(X, y, test_size=0.2, random_state=100)\n",
    "\n",
    "# Initialize LazyClassifier for classification task\n",
    "clf = LazyClassifier(verbose=0, ignore_warnings=True, custom_metric=None)\n",
    "\n",
    "# Fit the models\n",
    "models, predictions = clf.fit(X_train, X_test, y_train, y_test)\n",
    "\n",
    "# Print the models and their results\n",
    "print(models)"
   ]
  },
  {
   "cell_type": "code",
   "execution_count": 46,
   "metadata": {},
   "outputs": [
    {
     "data": {
      "text/html": [
       "<div>\n",
       "<style scoped>\n",
       "    .dataframe tbody tr th:only-of-type {\n",
       "        vertical-align: middle;\n",
       "    }\n",
       "\n",
       "    .dataframe tbody tr th {\n",
       "        vertical-align: top;\n",
       "    }\n",
       "\n",
       "    .dataframe thead th {\n",
       "        text-align: right;\n",
       "    }\n",
       "</style>\n",
       "<table border=\"1\" class=\"dataframe\">\n",
       "  <thead>\n",
       "    <tr style=\"text-align: right;\">\n",
       "      <th></th>\n",
       "      <th>Accuracy</th>\n",
       "      <th>Balanced Accuracy</th>\n",
       "      <th>ROC AUC</th>\n",
       "      <th>F1 Score</th>\n",
       "      <th>Time Taken</th>\n",
       "    </tr>\n",
       "    <tr>\n",
       "      <th>Model</th>\n",
       "      <th></th>\n",
       "      <th></th>\n",
       "      <th></th>\n",
       "      <th></th>\n",
       "      <th></th>\n",
       "    </tr>\n",
       "  </thead>\n",
       "  <tbody>\n",
       "    <tr>\n",
       "      <th>NearestCentroid</th>\n",
       "      <td>0.95</td>\n",
       "      <td>0.52</td>\n",
       "      <td>0.52</td>\n",
       "      <td>0.94</td>\n",
       "      <td>0.07</td>\n",
       "    </tr>\n",
       "    <tr>\n",
       "      <th>LinearDiscriminantAnalysis</th>\n",
       "      <td>0.95</td>\n",
       "      <td>0.52</td>\n",
       "      <td>0.52</td>\n",
       "      <td>0.94</td>\n",
       "      <td>0.10</td>\n",
       "    </tr>\n",
       "    <tr>\n",
       "      <th>BernoulliNB</th>\n",
       "      <td>0.96</td>\n",
       "      <td>0.50</td>\n",
       "      <td>0.50</td>\n",
       "      <td>0.94</td>\n",
       "      <td>0.08</td>\n",
       "    </tr>\n",
       "    <tr>\n",
       "      <th>CategoricalNB</th>\n",
       "      <td>0.96</td>\n",
       "      <td>0.50</td>\n",
       "      <td>0.50</td>\n",
       "      <td>0.94</td>\n",
       "      <td>0.09</td>\n",
       "    </tr>\n",
       "    <tr>\n",
       "      <th>Perceptron</th>\n",
       "      <td>0.96</td>\n",
       "      <td>0.50</td>\n",
       "      <td>0.50</td>\n",
       "      <td>0.94</td>\n",
       "      <td>0.20</td>\n",
       "    </tr>\n",
       "    <tr>\n",
       "      <th>QuadraticDiscriminantAnalysis</th>\n",
       "      <td>0.96</td>\n",
       "      <td>0.50</td>\n",
       "      <td>0.50</td>\n",
       "      <td>0.94</td>\n",
       "      <td>0.13</td>\n",
       "    </tr>\n",
       "    <tr>\n",
       "      <th>AdaBoostClassifier</th>\n",
       "      <td>0.96</td>\n",
       "      <td>0.50</td>\n",
       "      <td>0.50</td>\n",
       "      <td>0.94</td>\n",
       "      <td>1.08</td>\n",
       "    </tr>\n",
       "    <tr>\n",
       "      <th>BaggingClassifier</th>\n",
       "      <td>0.96</td>\n",
       "      <td>0.50</td>\n",
       "      <td>0.50</td>\n",
       "      <td>0.94</td>\n",
       "      <td>0.32</td>\n",
       "    </tr>\n",
       "    <tr>\n",
       "      <th>CalibratedClassifierCV</th>\n",
       "      <td>0.96</td>\n",
       "      <td>0.50</td>\n",
       "      <td>0.50</td>\n",
       "      <td>0.94</td>\n",
       "      <td>0.51</td>\n",
       "    </tr>\n",
       "    <tr>\n",
       "      <th>ExtraTreesClassifier</th>\n",
       "      <td>0.96</td>\n",
       "      <td>0.50</td>\n",
       "      <td>0.50</td>\n",
       "      <td>0.94</td>\n",
       "      <td>1.53</td>\n",
       "    </tr>\n",
       "    <tr>\n",
       "      <th>ExtraTreeClassifier</th>\n",
       "      <td>0.96</td>\n",
       "      <td>0.50</td>\n",
       "      <td>0.50</td>\n",
       "      <td>0.94</td>\n",
       "      <td>0.08</td>\n",
       "    </tr>\n",
       "    <tr>\n",
       "      <th>DummyClassifier</th>\n",
       "      <td>0.96</td>\n",
       "      <td>0.50</td>\n",
       "      <td>0.50</td>\n",
       "      <td>0.94</td>\n",
       "      <td>0.07</td>\n",
       "    </tr>\n",
       "    <tr>\n",
       "      <th>DecisionTreeClassifier</th>\n",
       "      <td>0.96</td>\n",
       "      <td>0.50</td>\n",
       "      <td>0.50</td>\n",
       "      <td>0.94</td>\n",
       "      <td>0.09</td>\n",
       "    </tr>\n",
       "    <tr>\n",
       "      <th>LogisticRegression</th>\n",
       "      <td>0.96</td>\n",
       "      <td>0.50</td>\n",
       "      <td>0.50</td>\n",
       "      <td>0.94</td>\n",
       "      <td>0.12</td>\n",
       "    </tr>\n",
       "    <tr>\n",
       "      <th>LinearSVC</th>\n",
       "      <td>0.96</td>\n",
       "      <td>0.50</td>\n",
       "      <td>0.50</td>\n",
       "      <td>0.94</td>\n",
       "      <td>0.16</td>\n",
       "    </tr>\n",
       "    <tr>\n",
       "      <th>PassiveAggressiveClassifier</th>\n",
       "      <td>0.96</td>\n",
       "      <td>0.50</td>\n",
       "      <td>0.50</td>\n",
       "      <td>0.94</td>\n",
       "      <td>0.11</td>\n",
       "    </tr>\n",
       "    <tr>\n",
       "      <th>KNeighborsClassifier</th>\n",
       "      <td>0.96</td>\n",
       "      <td>0.50</td>\n",
       "      <td>0.50</td>\n",
       "      <td>0.94</td>\n",
       "      <td>29.21</td>\n",
       "    </tr>\n",
       "    <tr>\n",
       "      <th>SGDClassifier</th>\n",
       "      <td>0.96</td>\n",
       "      <td>0.50</td>\n",
       "      <td>0.50</td>\n",
       "      <td>0.94</td>\n",
       "      <td>0.21</td>\n",
       "    </tr>\n",
       "    <tr>\n",
       "      <th>RandomForestClassifier</th>\n",
       "      <td>0.96</td>\n",
       "      <td>0.50</td>\n",
       "      <td>0.50</td>\n",
       "      <td>0.94</td>\n",
       "      <td>1.53</td>\n",
       "    </tr>\n",
       "    <tr>\n",
       "      <th>RidgeClassifier</th>\n",
       "      <td>0.96</td>\n",
       "      <td>0.50</td>\n",
       "      <td>0.50</td>\n",
       "      <td>0.94</td>\n",
       "      <td>0.07</td>\n",
       "    </tr>\n",
       "    <tr>\n",
       "      <th>RidgeClassifierCV</th>\n",
       "      <td>0.96</td>\n",
       "      <td>0.50</td>\n",
       "      <td>0.50</td>\n",
       "      <td>0.94</td>\n",
       "      <td>0.12</td>\n",
       "    </tr>\n",
       "    <tr>\n",
       "      <th>XGBClassifier</th>\n",
       "      <td>0.96</td>\n",
       "      <td>0.50</td>\n",
       "      <td>0.50</td>\n",
       "      <td>0.94</td>\n",
       "      <td>0.27</td>\n",
       "    </tr>\n",
       "    <tr>\n",
       "      <th>SVC</th>\n",
       "      <td>0.96</td>\n",
       "      <td>0.50</td>\n",
       "      <td>0.50</td>\n",
       "      <td>0.94</td>\n",
       "      <td>25.18</td>\n",
       "    </tr>\n",
       "    <tr>\n",
       "      <th>LGBMClassifier</th>\n",
       "      <td>0.96</td>\n",
       "      <td>0.50</td>\n",
       "      <td>0.50</td>\n",
       "      <td>0.94</td>\n",
       "      <td>0.17</td>\n",
       "    </tr>\n",
       "    <tr>\n",
       "      <th>GaussianNB</th>\n",
       "      <td>0.04</td>\n",
       "      <td>0.50</td>\n",
       "      <td>0.50</td>\n",
       "      <td>0.00</td>\n",
       "      <td>0.09</td>\n",
       "    </tr>\n",
       "  </tbody>\n",
       "</table>\n",
       "</div>"
      ],
      "text/plain": [
       "                               Accuracy  Balanced Accuracy  ROC AUC  F1 Score  \\\n",
       "Model                                                                           \n",
       "NearestCentroid                    0.95               0.52     0.52      0.94   \n",
       "LinearDiscriminantAnalysis         0.95               0.52     0.52      0.94   \n",
       "BernoulliNB                        0.96               0.50     0.50      0.94   \n",
       "CategoricalNB                      0.96               0.50     0.50      0.94   \n",
       "Perceptron                         0.96               0.50     0.50      0.94   \n",
       "QuadraticDiscriminantAnalysis      0.96               0.50     0.50      0.94   \n",
       "AdaBoostClassifier                 0.96               0.50     0.50      0.94   \n",
       "BaggingClassifier                  0.96               0.50     0.50      0.94   \n",
       "CalibratedClassifierCV             0.96               0.50     0.50      0.94   \n",
       "ExtraTreesClassifier               0.96               0.50     0.50      0.94   \n",
       "ExtraTreeClassifier                0.96               0.50     0.50      0.94   \n",
       "DummyClassifier                    0.96               0.50     0.50      0.94   \n",
       "DecisionTreeClassifier             0.96               0.50     0.50      0.94   \n",
       "LogisticRegression                 0.96               0.50     0.50      0.94   \n",
       "LinearSVC                          0.96               0.50     0.50      0.94   \n",
       "PassiveAggressiveClassifier        0.96               0.50     0.50      0.94   \n",
       "KNeighborsClassifier               0.96               0.50     0.50      0.94   \n",
       "SGDClassifier                      0.96               0.50     0.50      0.94   \n",
       "RandomForestClassifier             0.96               0.50     0.50      0.94   \n",
       "RidgeClassifier                    0.96               0.50     0.50      0.94   \n",
       "RidgeClassifierCV                  0.96               0.50     0.50      0.94   \n",
       "XGBClassifier                      0.96               0.50     0.50      0.94   \n",
       "SVC                                0.96               0.50     0.50      0.94   \n",
       "LGBMClassifier                     0.96               0.50     0.50      0.94   \n",
       "GaussianNB                         0.04               0.50     0.50      0.00   \n",
       "\n",
       "                               Time Taken  \n",
       "Model                                      \n",
       "NearestCentroid                      0.07  \n",
       "LinearDiscriminantAnalysis           0.10  \n",
       "BernoulliNB                          0.08  \n",
       "CategoricalNB                        0.09  \n",
       "Perceptron                           0.20  \n",
       "QuadraticDiscriminantAnalysis        0.13  \n",
       "AdaBoostClassifier                   1.08  \n",
       "BaggingClassifier                    0.32  \n",
       "CalibratedClassifierCV               0.51  \n",
       "ExtraTreesClassifier                 1.53  \n",
       "ExtraTreeClassifier                  0.08  \n",
       "DummyClassifier                      0.07  \n",
       "DecisionTreeClassifier               0.09  \n",
       "LogisticRegression                   0.12  \n",
       "LinearSVC                            0.16  \n",
       "PassiveAggressiveClassifier          0.11  \n",
       "KNeighborsClassifier                29.21  \n",
       "SGDClassifier                        0.21  \n",
       "RandomForestClassifier               1.53  \n",
       "RidgeClassifier                      0.07  \n",
       "RidgeClassifierCV                    0.12  \n",
       "XGBClassifier                        0.27  \n",
       "SVC                                 25.18  \n",
       "LGBMClassifier                       0.17  \n",
       "GaussianNB                           0.09  "
      ]
     },
     "execution_count": 46,
     "metadata": {},
     "output_type": "execute_result"
    }
   ],
   "source": [
    "models"
   ]
  },
  {
   "cell_type": "markdown",
   "metadata": {
    "id": "-Ggq1Ofzcm6U"
   },
   "source": [
    "# Model Training and Evaluation"
   ]
  },
  {
   "cell_type": "code",
   "execution_count": null,
   "metadata": {
    "id": "a9bbc33c-d40a-4681-94f8-adbb9eaf9546"
   },
   "outputs": [],
   "source": [
    "# Split data into training (80%)and testing sets (20%)"
   ]
  },
  {
   "cell_type": "code",
   "execution_count": 47,
   "metadata": {
    "executionInfo": {
     "elapsed": 82,
     "status": "ok",
     "timestamp": 1741415445077,
     "user": {
      "displayName": "Victor Idakwo",
      "userId": "04998244974704889295"
     },
     "user_tz": -60
    },
    "id": "4fb98d58-02d3-43cd-9b6f-ad82235307da"
   },
   "outputs": [],
   "source": [
    "X_train, X_test, y_train, y_test = train_test_split(X, y, test_size=0.2, random_state=100)\n"
   ]
  },
  {
   "cell_type": "code",
   "execution_count": null,
   "metadata": {
    "id": "4c6023e8-3335-4a51-9205-810b836fd14e"
   },
   "outputs": [],
   "source": [
    "# Define models"
   ]
  },
  {
   "cell_type": "code",
   "execution_count": 48,
   "metadata": {
    "executionInfo": {
     "elapsed": 10,
     "status": "ok",
     "timestamp": 1741415514688,
     "user": {
      "displayName": "Victor Idakwo",
      "userId": "04998244974704889295"
     },
     "user_tz": -60
    },
    "id": "801f3433-3666-4b8f-9e21-3c386ede00b5"
   },
   "outputs": [],
   "source": [
    "models = {\n",
    "    'Logistic Regression': make_pipeline(StandardScaler(), LogisticRegression(max_iter=1000)),\n",
    "    'Naive Bayes': GaussianNB(),\n",
    "    'Random Forest': RandomForestClassifier(),\n",
    "    'Support Vector Machine': make_pipeline(StandardScaler(), SVC(probability=True)),\n",
    "    'Gradient Boosting': GradientBoostingClassifier()\n",
    "}"
   ]
  },
  {
   "cell_type": "code",
   "execution_count": null,
   "metadata": {
    "id": "a6414686-2d1d-45fe-9068-22b52f689569"
   },
   "outputs": [],
   "source": [
    "# Directory to save models"
   ]
  },
  {
   "cell_type": "code",
   "execution_count": 49,
   "metadata": {
    "executionInfo": {
     "elapsed": 14,
     "status": "ok",
     "timestamp": 1741415535640,
     "user": {
      "displayName": "Victor Idakwo",
      "userId": "04998244974704889295"
     },
     "user_tz": -60
    },
    "id": "5f52f1d7-63b8-4429-ae9a-58eecd2049c7"
   },
   "outputs": [],
   "source": [
    "model_save_path = './models'\n",
    "os.makedirs(model_save_path, exist_ok=True)"
   ]
  },
  {
   "cell_type": "code",
   "execution_count": null,
   "metadata": {
    "id": "d11db3f6-2249-46f8-a778-198520416109"
   },
   "outputs": [],
   "source": [
    "# Function to plot ROC curve and calculate AUC"
   ]
  },
  {
   "cell_type": "code",
   "execution_count": 51,
   "metadata": {
    "executionInfo": {
     "elapsed": 27,
     "status": "ok",
     "timestamp": 1741415563948,
     "user": {
      "displayName": "Victor Idakwo",
      "userId": "04998244974704889295"
     },
     "user_tz": -60
    },
    "id": "11367e8a-9948-4f5e-b81b-40c97bbc4c27"
   },
   "outputs": [],
   "source": [
    "def plot_roc_auc(model, X_test, y_test, model_name):\n",
    "    y_pred_prob = model.predict_proba(X_test)[:, 1]\n",
    "    fpr, tpr, _ = roc_curve(y_test, y_pred_prob)\n",
    "    auc = roc_auc_score(y_test, y_pred_prob)\n",
    "\n",
    "    plt.figure()\n",
    "    plt.plot(fpr, tpr, color='blue', label=f'{model_name} (AUC = {auc:.2f})')\n",
    "    plt.plot([0, 1], [0, 1], color='red', linestyle='--')\n",
    "    plt.xlabel('False Positive Rate')\n",
    "    plt.ylabel('True Positive Rate')\n",
    "    plt.title(f'ROC Curve - {model_name}')\n",
    "    plt.legend()\n",
    "    plt.show()\n",
    "\n",
    "    return auc"
   ]
  },
  {
   "cell_type": "code",
   "execution_count": null,
   "metadata": {
    "id": "ab67d710-f749-4c57-8e5a-a109e7446ef6"
   },
   "outputs": [],
   "source": [
    "# Dictionary to store performance metrics"
   ]
  },
  {
   "cell_type": "code",
   "execution_count": 52,
   "metadata": {
    "executionInfo": {
     "elapsed": 67,
     "status": "ok",
     "timestamp": 1741415575174,
     "user": {
      "displayName": "Victor Idakwo",
      "userId": "04998244974704889295"
     },
     "user_tz": -60
    },
    "id": "327cfbc5-b6a9-4528-a36a-75f6661e7334"
   },
   "outputs": [],
   "source": [
    "model_performance = {}"
   ]
  },
  {
   "cell_type": "code",
   "execution_count": null,
   "metadata": {
    "id": "18b63970-ed76-4db7-b553-6710ff6651ec"
   },
   "outputs": [],
   "source": [
    "# Train, evaluate, and save models"
   ]
  },
  {
   "cell_type": "code",
   "execution_count": 53,
   "metadata": {
    "colab": {
     "base_uri": "https://localhost:8080/",
     "height": 1000
    },
    "executionInfo": {
     "elapsed": 522180,
     "status": "ok",
     "timestamp": 1741416815319,
     "user": {
      "displayName": "Victor Idakwo",
      "userId": "04998244974704889295"
     },
     "user_tz": -60
    },
    "id": "891fa280-13a3-4352-853b-e6d4c6a2f01f",
    "outputId": "57619d54-d373-454e-e87b-de9e61e907fa"
   },
   "outputs": [
    {
     "data": {
      "image/png": "[encoded data removed]",
      "text/plain": [
       "<Figure size 640x480 with 1 Axes>"
      ]
     },
     "metadata": {},
     "output_type": "display_data"
    },
    {
     "name": "stdout",
     "output_type": "stream",
     "text": [
      "Model: Logistic Regression\n",
      "Classification Report:\n",
      "              precision    recall  f1-score   support\n",
      "\n",
      "           0       0.96      1.00      0.98     21112\n",
      "           1       1.00      0.00      0.00       874\n",
      "\n",
      "    accuracy                           0.96     21986\n",
      "   macro avg       0.98      0.50      0.49     21986\n",
      "weighted avg       0.96      0.96      0.94     21986\n",
      "\n",
      "Confusion Matrix:\n",
      "[[21112     0]\n",
      " [  874     0]]\n",
      "--------------------------------------------------\n",
      "Model saved to: ./models\\Logistic_Regression.pkl\n",
      "==================================================\n"
     ]
    },
    {
     "data": {
      "image/png": "[encoded data removed]",
      "text/plain": [
       "<Figure size 640x480 with 1 Axes>"
      ]
     },
     "metadata": {},
     "output_type": "display_data"
    },
    {
     "name": "stdout",
     "output_type": "stream",
     "text": [
      "Model: Naive Bayes\n",
      "Classification Report:\n",
      "              precision    recall  f1-score   support\n",
      "\n",
      "           0       0.94      0.00      0.00     21112\n",
      "           1       0.04      1.00      0.08       874\n",
      "\n",
      "    accuracy                           0.04     21986\n",
      "   macro avg       0.49      0.50      0.04     21986\n",
      "weighted avg       0.90      0.04      0.00     21986\n",
      "\n",
      "Confusion Matrix:\n",
      "[[   15 21097]\n",
      " [    1   873]]\n",
      "--------------------------------------------------\n",
      "Model saved to: ./models\\Naive_Bayes.pkl\n",
      "==================================================\n"
     ]
    },
    {
     "data": {
      "image/png": "[encoded data removed]",
      "text/plain": [
       "<Figure size 640x480 with 1 Axes>"
      ]
     },
     "metadata": {},
     "output_type": "display_data"
    },
    {
     "name": "stdout",
     "output_type": "stream",
     "text": [
      "Model: Random Forest\n",
      "Classification Report:\n",
      "              precision    recall  f1-score   support\n",
      "\n",
      "           0       0.96      1.00      0.98     21112\n",
      "           1       1.00      0.00      0.00       874\n",
      "\n",
      "    accuracy                           0.96     21986\n",
      "   macro avg       0.98      0.50      0.49     21986\n",
      "weighted avg       0.96      0.96      0.94     21986\n",
      "\n",
      "Confusion Matrix:\n",
      "[[21112     0]\n",
      " [  874     0]]\n",
      "--------------------------------------------------\n",
      "Model saved to: ./models\\Random_Forest.pkl\n",
      "==================================================\n"
     ]
    },
    {
     "data": {
      "image/png": "[encoded data removed]",
      "text/plain": [
       "<Figure size 640x480 with 1 Axes>"
      ]
     },
     "metadata": {},
     "output_type": "display_data"
    },
    {
     "name": "stdout",
     "output_type": "stream",
     "text": [
      "Model: Support Vector Machine\n",
      "Classification Report:\n",
      "              precision    recall  f1-score   support\n",
      "\n",
      "           0       0.96      1.00      0.98     21112\n",
      "           1       1.00      0.00      0.00       874\n",
      "\n",
      "    accuracy                           0.96     21986\n",
      "   macro avg       0.98      0.50      0.49     21986\n",
      "weighted avg       0.96      0.96      0.94     21986\n",
      "\n",
      "Confusion Matrix:\n",
      "[[21112     0]\n",
      " [  874     0]]\n",
      "--------------------------------------------------\n",
      "Model saved to: ./models\\Support_Vector_Machine.pkl\n",
      "==================================================\n"
     ]
    },
    {
     "data": {
      "image/png": "[encoded data removed]",
      "text/plain": [
       "<Figure size 640x480 with 1 Axes>"
      ]
     },
     "metadata": {},
     "output_type": "display_data"
    },
    {
     "name": "stdout",
     "output_type": "stream",
     "text": [
      "Model: Gradient Boosting\n",
      "Classification Report:\n",
      "              precision    recall  f1-score   support\n",
      "\n",
      "           0       0.96      1.00      0.98     21112\n",
      "           1       1.00      0.00      0.00       874\n",
      "\n",
      "    accuracy                           0.96     21986\n",
      "   macro avg       0.98      0.50      0.49     21986\n",
      "weighted avg       0.96      0.96      0.94     21986\n",
      "\n",
      "Confusion Matrix:\n",
      "[[21112     0]\n",
      " [  874     0]]\n",
      "--------------------------------------------------\n",
      "Model saved to: ./models\\Gradient_Boosting.pkl\n",
      "==================================================\n"
     ]
    }
   ],
   "source": [
    "\n",
    "for name, model in models.items():\n",
    "    model.fit(X_train, y_train)\n",
    "    y_pred = model.predict(X_test)\n",
    "    y_pred_prob = model.predict_proba(X_test)[:, 1]  # Probability predictions for log loss and Brier score\n",
    "\n",
    "    accuracy = accuracy_score(y_test, y_pred)\n",
    "    precision = precision_score(y_test, y_pred, average='weighted', zero_division=1)\n",
    "    recall = recall_score(y_test, y_pred, average='weighted', zero_division=1)\n",
    "    f1 = f1_score(y_test, y_pred, average='weighted', zero_division=1)\n",
    "    kappa = cohen_kappa_score(y_test, y_pred)\n",
    "    mcc = matthews_corrcoef(y_test, y_pred)\n",
    "    logloss = log_loss(y_test, y_pred_prob)\n",
    "    brier = brier_score_loss(y_test, y_pred_prob)\n",
    "    cv_accuracy = cross_val_score(model, X, y, cv=5, scoring='accuracy').mean()\n",
    "\n",
    "    auc = plot_roc_auc(model, X_test, y_test, name) if hasattr(model, \"predict_proba\") else None\n",
    "\n",
    "    model_performance[name] = {\n",
    "        'Accuracy': accuracy,\n",
    "        'Precision': precision,\n",
    "        'Recall': recall,\n",
    "        'F1 Score': f1,\n",
    "        'AUC': auc,\n",
    "        'Cohen Kappa': kappa,\n",
    "        'MCC': mcc,\n",
    "        'Log Loss': logloss,\n",
    "        'Brier Score': brier,\n",
    "        'CV Accuracy': cv_accuracy\n",
    "    }\n",
    "\n",
    "    print(f\"Model: {name}\")\n",
    "    print(\"Classification Report:\")\n",
    "    print(classification_report(y_test, y_pred, zero_division=1))\n",
    "    print(\"Confusion Matrix:\")\n",
    "    print(confusion_matrix(y_test, y_pred))\n",
    "    print(\"-\" * 50)\n",
    "\n",
    "    model_path = os.path.join(model_save_path, f'{name.replace(\" \", \"_\")}.pkl')\n",
    "    joblib.dump(model, model_path)\n",
    "    print(f\"Model saved to: {model_path}\")\n",
    "    print(\"=\" * 50)"
   ]
  },
  {
   "cell_type": "code",
   "execution_count": null,
   "metadata": {
    "id": "14d50b7f-6f0f-4c2b-af8d-a449481e35d8"
   },
   "outputs": [],
   "source": [
    "# Compare the performance of all models"
   ]
  },
  {
   "cell_type": "code",
   "execution_count": 54,
   "metadata": {
    "id": "b4e9bbc4-0181-487c-b02a-b51da073ca89",
    "outputId": "a494b998-2f74-4e70-bbb9-5fb178905abe"
   },
   "outputs": [
    {
     "name": "stdout",
     "output_type": "stream",
     "text": [
      "\n",
      "Comparison of Model Performance:\n",
      "                        Accuracy  Precision  Recall  F1 Score  AUC  \\\n",
      "Logistic Regression         0.96       0.96    0.96      0.94 0.52   \n",
      "Naive Bayes                 0.04       0.90    0.04      0.00 0.52   \n",
      "Random Forest               0.96       0.96    0.96      0.94 0.52   \n",
      "Support Vector Machine      0.96       0.96    0.96      0.94 0.52   \n",
      "Gradient Boosting           0.96       0.96    0.96      0.94 0.52   \n",
      "\n",
      "                        Cohen Kappa   MCC  Log Loss  Brier Score  CV Accuracy  \n",
      "Logistic Regression            0.00  0.00      0.17         0.04         0.96  \n",
      "Naive Bayes                   -0.00 -0.00      7.80         0.96         0.22  \n",
      "Random Forest                  0.00  0.00      0.17         0.04         0.96  \n",
      "Support Vector Machine         0.00  0.00      0.17         0.04         0.96  \n",
      "Gradient Boosting              0.00  0.00      0.17         0.04         0.96  \n"
     ]
    }
   ],
   "source": [
    "comparison_df = pd.DataFrame(model_performance).T\n",
    "print(\"\\nComparison of Model Performance:\")\n",
    "print(comparison_df)"
   ]
  },
  {
   "cell_type": "markdown",
   "metadata": {
    "id": "CVLbQ0Ixd_0o"
   },
   "source": [
    "# Model Performance Evaluation"
   ]
  },
  {
   "cell_type": "code",
   "execution_count": null,
   "metadata": {
    "id": "352702c9-c345-45a5-800f-79fe0e738fef"
   },
   "outputs": [],
   "source": [
    "# Identify the best-performing model based on F1 Score"
   ]
  },
  {
   "cell_type": "code",
   "execution_count": 55,
   "metadata": {
    "colab": {
     "base_uri": "https://localhost:8080/",
     "height": 158
    },
    "executionInfo": {
     "elapsed": 11,
     "status": "error",
     "timestamp": 1741416816207,
     "user": {
      "displayName": "Victor Idakwo",
      "userId": "04998244974704889295"
     },
     "user_tz": -60
    },
    "id": "0889de22-3338-4dbf-97c1-719d48ecaaec",
    "outputId": "04a89c6a-0314-4966-f1b6-f0c4d540c836"
   },
   "outputs": [
    {
     "name": "stdout",
     "output_type": "stream",
     "text": [
      "\n",
      "Best-performing model: Logistic Regression based on F1 Score\n"
     ]
    }
   ],
   "source": [
    "best_model = comparison_df['F1 Score'].idxmax()\n",
    "print(f\"\\nBest-performing model: {best_model} based on F1 Score\")"
   ]
  },
  {
   "cell_type": "code",
   "execution_count": null,
   "metadata": {
    "id": "05ae90cf-850e-473a-8e2e-f97d51f19efc"
   },
   "outputs": [],
   "source": [
    "# ANOVA-like test for Logistic Regression"
   ]
  },
  {
   "cell_type": "code",
   "execution_count": 56,
   "metadata": {
    "colab": {
     "base_uri": "https://localhost:8080/"
    },
    "executionInfo": {
     "elapsed": 1153,
     "status": "ok",
     "timestamp": 1741416817365,
     "user": {
      "displayName": "Victor Idakwo",
      "userId": "04998244974704889295"
     },
     "user_tz": -60
    },
    "id": "c41682a4-9e1f-48de-949b-9f870c924fa7",
    "outputId": "df48887f-f121-467b-d7be-54d61306b0de"
   },
   "outputs": [
    {
     "name": "stdout",
     "output_type": "stream",
     "text": [
      "Warning: Maximum number of iterations has been exceeded.\n",
      "         Current function value: 0.163282\n",
      "         Iterations: 35\n",
      "\n",
      "Logistic Regression Summary (ANOVA-like):\n",
      "                           Logit Regression Results                           \n",
      "==============================================================================\n",
      "Dep. Variable:                 Result   No. Observations:                87941\n",
      "Model:                          Logit   Df Residuals:                    87931\n",
      "Method:                           MLE   Df Model:                            9\n",
      "Date:                Sat, 08 Mar 2025   Pseudo R-squ.:                 0.01465\n",
      "Time:                        15:26:49   Log-Likelihood:                -14359.\n",
      "converged:                      False   LL-Null:                       -14573.\n",
      "Covariance Type:            nonrobust   LLR p-value:                 2.351e-86\n",
      "===================================================================================================\n",
      "                                      coef    std err          z      P>|z|      [0.025      0.975]\n",
      "---------------------------------------------------------------------------------------------------\n",
      "const                              -3.2481      0.018   -181.656      0.000      -3.283      -3.213\n",
      "Chest pain                         -0.3992      0.243     -1.645      0.100      -0.875       0.076\n",
      "Chills or sweats                    0.2162      0.425      0.509      0.611      -0.616       1.049\n",
      "Confused or disoriented             2.4546      1.678      1.463      0.143      -0.833       5.743\n",
      "Cough                               1.9862      0.095     20.922      0.000       1.800       2.172\n",
      "Diarrhea                            0.1396      0.227      0.614      0.539      -0.306       0.585\n",
      "Difficulty breathing or Dyspnea     0.2789      0.188      1.480      0.139      -0.091       0.648\n",
      "Cough with sputum                  -1.9689      0.601     -3.273      0.001      -3.148      -0.790\n",
      "Cough with heamoptysis            -42.1062   1.57e+09  -2.68e-08      1.000   -3.08e+09    3.08e+09\n",
      "Wheezing                          -16.0928   5020.203     -0.003      0.997   -9855.510    9823.324\n",
      "===================================================================================================\n"
     ]
    }
   ],
   "source": [
    "logit_model = sm.Logit(y_train, sm.add_constant(X_train)).fit()\n",
    "print(\"\\nLogistic Regression Summary (ANOVA-like):\")\n",
    "print(logit_model.summary())"
   ]
  },
  {
   "cell_type": "markdown",
   "metadata": {
    "id": "3zOSV2X4Np19"
   },
   "source": [
    "The Best Model is now ready for Trail using either covid19_flask_app.py or covid19_streamlit_app.py"
   ]
  },
  {
   "cell_type": "markdown",
   "metadata": {},
   "source": []
  }
 ],
 "metadata": {
  "colab": {
   "authorship_tag": "ABX9TyP9hxgO+vfglbUcGjhOc94H",
   "provenance": []
  },
  "kernelspec": {
   "display_name": "venv",
   "language": "python",
   "name": "python3"
  },
  "language_info": {
   "codemirror_mode": {
    "name": "ipython",
    "version": 3
   },
   "file_extension": ".py",
   "mimetype": "text/x-python",
   "name": "python",
   "nbconvert_exporter": "python",
   "pygments_lexer": "ipython3",
   "version": "3.13.2"
  }
 },
 "nbformat": 4,
 "nbformat_minor": 0
}
